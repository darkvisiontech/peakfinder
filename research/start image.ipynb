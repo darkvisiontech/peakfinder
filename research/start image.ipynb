{
 "cells": [
  {
   "cell_type": "code",
   "execution_count": null,
   "metadata": {},
   "outputs": [],
   "source": [
    "import numpy as np\n",
    "import matplotlib.pyplot as plt"
   ]
  },
  {
   "cell_type": "code",
   "execution_count": null,
   "metadata": {},
   "outputs": [],
   "source": [
    "def sinplot(n=7, flip=1):\n",
    "    plt.figure(edgecolor='white', facecolor='grey', linewidth=2)\n",
    "    params = {\"text.color\" : \"darkorange\",\n",
    "              \"figure.dpi\" : \"600\",\n",
    "              \"axes.facecolor\" : \"darkgrey\",\n",
    "              \"axes.edgecolor\" : \"darkorange\",\n",
    "            \"xtick.color\" : \"darkorange\",\n",
    "            \"ytick.color\" : \"darkorange\"}\n",
    "    plt.rcParams.update(params)\n",
    "    plt.title(\"WPD / PeakFinder\", fontsize=20)\n",
    "\n",
    "    x = np.linspace(0, 14, 100)\n",
    "    for i in range(1, n + 1):\n",
    "        plt.plot(x, np.sin(x + i * .5) * (n + 2 - i) * flip)\n",
    "    plt.savefig('start.png', format='png', transparent=False)\n",
    "sinplot()"
   ]
  }
 ],
 "metadata": {
  "kernelspec": {
   "display_name": "Python 3",
   "language": "python",
   "name": "python3"
  },
  "language_info": {
   "codemirror_mode": {
    "name": "ipython",
    "version": 3
   },
   "file_extension": ".py",
   "mimetype": "text/x-python",
   "name": "python",
   "nbconvert_exporter": "python",
   "pygments_lexer": "ipython3",
   "version": "3.8.10"
  },
  "orig_nbformat": 4
 },
 "nbformat": 4,
 "nbformat_minor": 2
}
